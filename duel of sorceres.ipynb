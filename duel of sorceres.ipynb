{
 "cells": [
  {
   "cell_type": "code",
   "execution_count": 27,
   "metadata": {
    "scrolled": true
   },
   "outputs": [
    {
     "name": "stdout",
     "output_type": "stream",
     "text": [
      "round 1: saruman wins\n",
      "round 2: saruman wins\n",
      "round 3: gandalf wins\n",
      "round 4: saruman wins\n",
      "round 5: gandalf wins\n",
      "round 6: gandalf wins\n",
      "round 7: saruman wins\n",
      "round 8: gandalf wins\n",
      "round 9: gandalf wins\n",
      "round 10: gandalf wins\n",
      "\n",
      "GANDALF WINS... FATALITY\n"
     ]
    }
   ],
   "source": [
    "#Duel of Sorcerers\n",
    "#1\n",
    "\n",
    "gandalf = [10, 11, 13, 30, 22, 11, 10, 33, 22, 22]\n",
    "saruman = [23, 66, 12, 43, 12, 10, 44, 23, 12, 17]\n",
    "VG = 0\n",
    "VS = 0\n",
    "contador= 0\n",
    "\n",
    "for a,b in zip(gandalf, saruman):\n",
    "    contador += 1\n",
    "    if a > b:\n",
    "        print(\"round \" + str(contador) + \": gandalf wins\")\n",
    "        VG += 1\n",
    "    elif b > a: \n",
    "        print(\"round \" + str(contador) + \": saruman wins\")\n",
    "    else:\n",
    "        print(\"round \" + str(contador) + \": tie\")\n",
    "        \n",
    "print()\n",
    "if VG > VS:\n",
    "    print(\"GANDALF WINS... FATALITY\")\n",
    "elif VS > VG: \n",
    "    print(\"SARUMA WINS ... FATALITY\") \n",
    "else:\n",
    "    print(\"TIE :(\")"
   ]
  },
  {
   "cell_type": "code",
   "execution_count": 31,
   "metadata": {},
   "outputs": [
    {
     "name": "stdout",
     "output_type": "stream",
     "text": [
      "gandalf wins the round\n",
      "saruman wins the round\n",
      "gandalf wins the round\n",
      "saruman wins the round\n",
      "gandalf wins the round\n",
      "saruman wins the round\n",
      "gandalf wins the round\n",
      "gandalf wins the round\n",
      "gandalf wins the round\n",
      "gandalf wins by winning 3 times in a row\n"
     ]
    }
   ],
   "source": [
    "#Duel of Sorcerers\n",
    "#2\n",
    "\n",
    "POWER = {\n",
    "    'Fireball': 50, \n",
    "    'Lightning bolt': 40, \n",
    "    'Magic arrow': 10, \n",
    "    'Black Tentacles': 25, \n",
    "    'Contagion': 45}\n",
    "\n",
    "gandalf = ['Fireball', 'Lightning bolt', 'Lightning bolt', 'Magic arrow', 'Fireball', \n",
    "           'Magic arrow', 'Lightning bolt', 'Fireball', 'Fireball', 'Fireball']\n",
    "saruman = ['Contagion', 'Contagion', 'Black Tentacles', 'Fireball', 'Black Tentacles', \n",
    "           'Lightning bolt', 'Magic arrow', 'Contagion', 'Magic arrow', 'Magic arrow']\n",
    "GanadasG= 0\n",
    "GanadasS= 0\n",
    "\n",
    "for x, y in zip(gandalf,saruman):\n",
    "    G= POWER[x]\n",
    "    S= POWER[y]\n",
    "    if GanadasG == 3:\n",
    "        print(\"gandalf wins by winning 3 times in a row\")\n",
    "        break\n",
    "    elif GanadasS == 3:\n",
    "        print(\"saruman wins by winning 3 times in a row\")\n",
    "        break\n",
    "    else: \n",
    "        if G > S:\n",
    "            print(\"gandalf wins the round\")\n",
    "            GanadasG += 1\n",
    "            GanadasS = 0\n",
    "        elif S > G:\n",
    "            print(\"saruman wins the round\")\n",
    "            GanadasS += 1\n",
    "            GanadasG = 0\n",
    "        else:\n",
    "            print(\"The round finished in tie\")\n"
   ]
  },
  {
   "cell_type": "code",
   "execution_count": null,
   "metadata": {},
   "outputs": [],
   "source": []
  }
 ],
 "metadata": {
  "kernelspec": {
   "display_name": "Python 3",
   "language": "python",
   "name": "python3"
  },
  "language_info": {
   "codemirror_mode": {
    "name": "ipython",
    "version": 3
   },
   "file_extension": ".py",
   "mimetype": "text/x-python",
   "name": "python",
   "nbconvert_exporter": "python",
   "pygments_lexer": "ipython3",
   "version": "3.8.5"
  }
 },
 "nbformat": 4,
 "nbformat_minor": 4
}
