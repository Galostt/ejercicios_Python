{
 "cells": [
  {
   "cell_type": "markdown",
   "metadata": {},
   "source": [
    "<img src=\"https://bit.ly/2VnXWr2\" width=\"100\" align=\"left\">"
   ]
  },
  {
   "cell_type": "markdown",
   "metadata": {},
   "source": [
    "# Temperature Sensor\n",
    "\n",
    "There is a temperature sensor in the processor of your company's server. The company wants to analyze the data provided by the sensor to decide if they should change the cooling system for a better one. As changing the cooling system is expensive and you are an excellent data analyst, you can't make a decision without basis.\n",
    "\n",
    "## Tools\n",
    "You don't necessarily need to use all the tools. Maybe you opt to use some of them or completely different ones, they are given to help you shape the exercise. Programming exercises can be solved in many different ways.\n",
    "1. Data structures: **lists**\n",
    "2. Loops: **list comprehension**\n",
    "3. Functions: **min, max, print, len**\n",
    "4. Conditional statements: **if-elif-else**\n",
    "\n",
    "## Tasks\n",
    "The temperatures measured throughout the 24 hours of a day are:"
   ]
  },
  {
   "cell_type": "code",
   "execution_count": null,
   "metadata": {},
   "outputs": [],
   "source": [
    "temperatures = [33, 66, 65, 0, 59, 60, 62, 64, 70, 76, 80, 81, 80, 83, 90, 79, 61, 53, 50, 49, 53, 48, 45, 39]"
   ]
  },
  {
   "cell_type": "markdown",
   "metadata": {},
   "source": [
    "The first element of the list is the temperature at 12am, the second element is the temperature at 1am, and so on. \n",
    "\n",
    "The company has decided that if one of the following events occurs, then the cooling system needs to be replaced for a new one to avoid damaging the processor.\n",
    "* More than 4 temperatures are greater than or equal to 70ºC.\n",
    "* Any temperature is above 80ºC.\n",
    "* The average temperature exceeds 65ºC.\n",
    "\n",
    "Follow the steps so that you can make the decision.\n",
    "\n",
    "#### 1. Find the minimum temperature of the day and store it in a variable."
   ]
  },
  {
   "cell_type": "code",
   "execution_count": 1,
   "metadata": {},
   "outputs": [
    {
     "name": "stdout",
     "output_type": "stream",
     "text": [
      "0\n"
     ]
    }
   ],
   "source": [
    "temperatures = [33, 66, 65, 0, 59, 60, 62, 64, 70, 76, 80, 81, 80, 83, 90, 79, 61, 53, 50, 49, 53, 48, 45, 39]\n",
    "x= min(temperatures)\n",
    "print(x)"
   ]
  },
  {
   "cell_type": "markdown",
   "metadata": {},
   "source": [
    "#### 2. Find the maximum temperature of the day and store it in a variable."
   ]
  },
  {
   "cell_type": "code",
   "execution_count": null,
   "metadata": {},
   "outputs": [],
   "source": [
    "temperatures = [33, 66, 65, 0, 59, 60, 62, 64, 70, 76, 80, 81, 80, 83, 90, 79, 61, 53, 50, 49, 53, 48, 45, 39]\n",
    "x= max(temperatures)\n",
    "print(x)"
   ]
  },
  {
   "cell_type": "markdown",
   "metadata": {},
   "source": [
    "#### 3. Create a list with the temperatures that are greater than or equal to 70ºC. Store it in a variable."
   ]
  },
  {
   "cell_type": "code",
   "execution_count": 2,
   "metadata": {},
   "outputs": [
    {
     "name": "stdout",
     "output_type": "stream",
     "text": [
      "[70, 76, 80, 81, 80, 83, 90, 79]\n"
     ]
    }
   ],
   "source": [
    "temperatures = [33, 66, 65, 0, 59, 60, 62, 64, 70, 76, 80, 81, 80, 83, 90, 79, 61, 53, 50, 49, 53, 48, 45, 39]\n",
    "y= []\n",
    "for x in temperatures:\n",
    "    if x >= 70:\n",
    "        y.append(x)\n",
    "print(y)"
   ]
  },
  {
   "cell_type": "markdown",
   "metadata": {},
   "source": [
    "#### 4. Find the average temperature of the day and store it in a variable."
   ]
  },
  {
   "cell_type": "code",
   "execution_count": 3,
   "metadata": {},
   "outputs": [
    {
     "name": "stdout",
     "output_type": "stream",
     "text": [
      "60.25\n"
     ]
    }
   ],
   "source": [
    "temperatures = [33, 66, 65, 0, 59, 60, 62, 64, 70, 76, 80, 81, 80, 83, 90, 79, 61, 53, 50, 49, 53, 48, 45, 39]\n",
    "x= sum(temperatures)/ len(temperatures)\n",
    "print(x)"
   ]
  },
  {
   "cell_type": "markdown",
   "metadata": {},
   "source": [
    "#### 5. Imagine that there was a sensor failure at 3am and the data for that specific hour was not recorded. How would you estimate the missing value? Replace the current value of the list at 3am for an estimation. "
   ]
  },
  {
   "cell_type": "code",
   "execution_count": 12,
   "metadata": {},
   "outputs": [
    {
     "name": "stdout",
     "output_type": "stream",
     "text": [
      "{'0': 33, '1': 66, '2': 65, '3': 62.0, '4': 59, '5': 60, '6': 62, '7': 64, '8': 70, '9': 76, '10': 80, '11': 81, '12': 80, '13': 83, '14': 90, '15': 79, '16': 61, '17': 53, '18': 50, '19': 49, '20': 53, '21': 48, '22': 45, '23': 39}\n"
     ]
    }
   ],
   "source": [
    "temperatures = [33, 66, 65, 0, 59, 60, 62, 64, 70, 76, 80, 81, 80, 83, 90, 79, 61, 53, 50, 49, 53, 48, 45, 39]\n",
    "hour= [\"0\",\"1\",\"2\",\"3\",\"4\",\"5\",\"6\",\"7\",\"8\",\"9\",\"10\",\"11\",\"12\",\"13\",\"14\",\"15\",\"16\",\"17\",\"18\",\"19\",\"20\",\"21\",\"22\",\"23\"]\n",
    "x= dict(zip(hour, temperatures))\n",
    "\n",
    "y= (x[\"2\"] + x[\"4\"])/2\n",
    "x[\"3\"]= y\n",
    "\n",
    "print(x)"
   ]
  },
  {
   "cell_type": "markdown",
   "metadata": {},
   "source": [
    "#### 6. Bonus: the maintenance staff is from the United States and does not understand the international metric system. Help them by converting the temperatures from Celsius to Fahrenheit.\n",
    "To know more about temperature conversion check this [link](https://en.wikipedia.org/wiki/Conversion_of_units_of_temperature).\n",
    "\n",
    "**Formula**: \n",
    "\n",
    "$F = 1.8 * C + 32$"
   ]
  },
  {
   "cell_type": "code",
   "execution_count": 14,
   "metadata": {},
   "outputs": [
    {
     "name": "stdout",
     "output_type": "stream",
     "text": [
      "[65.0, 98.0, 97.0, 32.0, 91.0, 92.0, 94.0, 96.0, 102.0, 108.0, 112.0, 113.0, 112.0, 115.0, 122.0, 111.0, 93.0, 85.0, 82.0, 81.0, 85.0, 80.0, 77.0, 71.0]\n"
     ]
    }
   ],
   "source": [
    "temperatures = [33, 66, 65, 0, 59, 60, 62, 64, 70, 76, 80, 81, 80, 83, 90, 79, 61, 53, 50, 49, 53, 48, 45, 39]\n",
    "TemperaturesF=[]\n",
    "for x in temperatures:\n",
    "    TemperaturesF.append(1.0*x+32)\n",
    "print(TemperaturesF)"
   ]
  },
  {
   "cell_type": "markdown",
   "metadata": {},
   "source": [
    "#### 7. Make a decision!\n",
    "Now it's time to make a decision taking into account what you have seen until now. \n",
    "\n",
    "Remember that if one of the following events occurs, then the cooling system needs to be replaced for a new one to avoid damaging the processor.\n",
    "* More than 4 temperatures are greater than or equal to 70ºC.\n",
    "* Any temperature is above 80ºC.\n",
    "* The average temperature exceeds 65ºC.\n",
    "\n",
    "#### To make your decision, check if any of the three conditions above is met. You might need to use some of the variables you created in steps 1 to 6. Print a message to show if the cooling system needs to be changed or not."
   ]
  },
  {
   "cell_type": "code",
   "execution_count": 17,
   "metadata": {
    "scrolled": true
   },
   "outputs": [
    {
     "name": "stdout",
     "output_type": "stream",
     "text": [
      "More than 4 temperatures are greater than or equal to 70ºC.\n",
      "The cooling system needs to be changed\n"
     ]
    }
   ],
   "source": [
    "temperatures = [33, 66, 65, 0, 59, 60, 62, 64, 70, 76, 80, 81, 80, 83, 90, 79, 61, 53, 50, 49, 53, 48, 45, 39]\n",
    "mmmm= 0\n",
    "r= 0\n",
    "for x in temperatures:\n",
    "    if x >= 70:\n",
    "        mmmm += 1\n",
    "        if mmmm >= 4:\n",
    "            print(\"More than 4 temperatures are greater than or equal to 70ºC.\")\n",
    "            print(\"The cooling system needs to be changed\")\n",
    "            r += 1\n",
    "            break\n",
    "    elif x > 80:\n",
    "        print(\"temperature is above 80ºC\")\n",
    "        print(\"The cooling system needs to be changed\")\n",
    "        r += 1\n",
    "        break\n",
    "    elif (sum(temperatures)/len(temperatures)) > 65:\n",
    "        print(\"The average temperature exceeds 65ºC\")\n",
    "        print(\"The cooling system needs to be changed\")\n",
    "        r += 1\n",
    "        break\n",
    "\n",
    "if r == 0:\n",
    "    print(\"The cooling system is in perfect conditions\")"
   ]
  },
  {
   "cell_type": "markdown",
   "metadata": {},
   "source": [
    "# Bonus\n",
    "\n",
    "The company has decided that the decision you made is not valid. They want you to analyze the data again but this time, the conditions that need to be met in order to change the cooling system are different.\n",
    "\n",
    "This time, if one of the following events occurs, then the cooling system needs to be replaced:\n",
    "* The temperature is greater than 70ºC during more than 4 consecutive hours.\n",
    "* Any temperature is above 80ºC.\n",
    "* The average temperature exceeds 65ºC.\n",
    "\n",
    "Follow the steps so that you can make the decision.\n",
    "\n",
    "#### 1. Create a list with the hours where the temperature is greater than 70ºC. Store it in a variable."
   ]
  },
  {
   "cell_type": "code",
   "execution_count": 23,
   "metadata": {},
   "outputs": [
    {
     "name": "stdout",
     "output_type": "stream",
     "text": [
      "['9am', '10am', '11am', '12pm', '1pm', '2pm', '3pm']\n"
     ]
    }
   ],
   "source": [
    "temperatures = [33, 66, 65, 0, 59, 60, 62, 64, 70, 76, 80, 81, 80, 83, 90, 79, 61, 53, 50, 49, 53, 48, 45, 39]\n",
    "hour= [\"12am\",\"1am\",\"2am\",\"3am\",\"4am\",\"5am\",\"6am\",\"7am\",\"8am\",\"9am\",\"10am\",\"11am\",\"12pm\",\"1pm\",\"2pm\",\"3pm\",\"4pm\",\"5pm\",\"6pm\",\"7pm\",\"8pm\",\"9pm\",\"10pm\",\"11pm\"]\n",
    "x= dict(zip(hour, temperatures))\n",
    "r=[]\n",
    "\n",
    "for a,b in x.items():\n",
    "    if b > 70:\n",
    "        r.append(a)\n",
    "print(r)"
   ]
  },
  {
   "cell_type": "markdown",
   "metadata": {},
   "source": [
    "#### 2. Check if the list you created in step 1 has more than 4 consecutive hours. "
   ]
  },
  {
   "cell_type": "code",
   "execution_count": 17,
   "metadata": {},
   "outputs": [
    {
     "name": "stdout",
     "output_type": "stream",
     "text": [
      "1\n",
      "2\n",
      "3\n",
      "4\n",
      "4 consecutive hours.\n"
     ]
    }
   ],
   "source": [
    "temperatures = [33, 66, 65, 0, 59, 60, 62, 64, 70, 76, 80, 81, 80, 83, 90, 79, 61, 53, 50, 49, 53, 48, 45, 39]\n",
    "hour= [\"12am\",\"1am\",\"2am\",\"3am\",\"4am\",\"5am\",\"6am\",\"7am\",\"8am\",\"9am\",\"10am\",\"11am\",\"12pm\",\"1pm\",\"2pm\",\"3pm\",\"4pm\",\"5pm\",\"6pm\",\"7pm\",\"8pm\",\"9pm\",\"10pm\",\"11pm\"]\n",
    "x= dict(zip(hour, temperatures))\n",
    "r= 0\n",
    "\n",
    "for a,b in x.items():\n",
    "    if r == 4:\n",
    "        print(\"4 consecutive hours.\")\n",
    "        break\n",
    "        \n",
    "    else: \n",
    "        if b > 70:\n",
    "            r += 1\n",
    "            print(r)\n",
    "if r =!:\n",
    "    print(\"not consecutive hours\")"
   ]
  },
  {
   "cell_type": "markdown",
   "metadata": {},
   "source": [
    "#### 3. Make the decision!\n",
    "To make your decision, check if any of the three conditions is met. Print a message to show if the cooling system needs to be changed or not."
   ]
  },
  {
   "cell_type": "code",
   "execution_count": 19,
   "metadata": {},
   "outputs": [
    {
     "name": "stdout",
     "output_type": "stream",
     "text": [
      "temperature is above 80ºC\n"
     ]
    }
   ],
   "source": [
    "temperatures = [33, 66, 65, 0, 59, 60, 62, 64, 70, 76, 80, 81, 80, 83, 90, 79, 61, 53, 50, 49, 53, 48, 45, 39]\n",
    "hour= [\"12am\",\"1am\",\"2am\",\"3am\",\"4am\",\"5am\",\"6am\",\"7am\",\"8am\",\"9am\",\"10am\",\"11am\",\"12pm\",\"1pm\",\"2pm\",\"3pm\",\"4pm\",\"5pm\",\"6pm\",\"7pm\",\"8pm\",\"9pm\",\"10pm\",\"11pm\"]\n",
    "x= dict(zip(hour, temperatures))\n",
    "r= 0\n",
    "m= 0\n",
    "\n",
    "for a,b in x.items():\n",
    "    if b > 80:\n",
    "        print(\"temperature is above 80ºC, change the cooling system\")\n",
    "        r += 1\n",
    "        break\n",
    "    elif (sum(temperatures)/len(temperatures)) > 65:\n",
    "        print(\"The average temperature exceeds 65ºC\")\n",
    "        print(\"The cooling system needs to be changed\")\n",
    "        r += 1\n",
    "        break  \n",
    "    elif b >= 70:\n",
    "        m += 1\n",
    "        if m >= 4:\n",
    "            print(\"More than 4 temperatures are greater than or equal to 70ºC.\")\n",
    "            print(\"The cooling system needs to be changed\")\n",
    "            r += 1\n",
    "            break\n",
    "        else:\n",
    "            m= 0\n",
    "if r == 0:\n",
    "    print(\"The cooling system is in perfect conditions\")"
   ]
  },
  {
   "cell_type": "markdown",
   "metadata": {},
   "source": [
    "#### 4. Find the average value of the temperature lists (ºC and ºF). What is the relation between both average values?"
   ]
  },
  {
   "cell_type": "code",
   "execution_count": 23,
   "metadata": {},
   "outputs": [
    {
     "name": "stdout",
     "output_type": "stream",
     "text": [
      "AVERAGE °F: 92.25\n",
      "AVERAGE °C: 60.25\n"
     ]
    }
   ],
   "source": [
    "temperatures = [33, 66, 65, 0, 59, 60, 62, 64, 70, 76, 80, 81, 80, 83, 90, 79, 61, 53, 50, 49, 53, 48, 45, 39]\n",
    "TemperaturesF=[]\n",
    "for x in temperatures:\n",
    "    TemperaturesF.append(1.0*x+32)\n",
    "print(\"AVERAGE °F:\" , sum(TemperaturesF) / len(TemperaturesF))\n",
    "print(\"AVERAGE °C:\" , sum(temperatures) / len(temperatures))"
   ]
  },
  {
   "cell_type": "markdown",
   "metadata": {},
   "source": [
    "#### 5. Find the standard deviation of the temperature lists (ºC and ºF). What is the relation between both standard deviations?"
   ]
  }
 ],
 "metadata": {
  "kernelspec": {
   "display_name": "Python 3",
   "language": "python",
   "name": "python3"
  },
  "language_info": {
   "codemirror_mode": {
    "name": "ipython",
    "version": 3
   },
   "file_extension": ".py",
   "mimetype": "text/x-python",
   "name": "python",
   "nbconvert_exporter": "python",
   "pygments_lexer": "ipython3",
   "version": "3.8.8"
  }
 },
 "nbformat": 4,
 "nbformat_minor": 2
}
