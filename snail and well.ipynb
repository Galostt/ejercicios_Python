{
 "cells": [
  {
   "cell_type": "code",
   "execution_count": 19,
   "metadata": {},
   "outputs": [
    {
     "name": "stdout",
     "output_type": "stream",
     "text": [
      "dia 1: el caracol ah subido 30 cm\n",
      "esa noche, el caracol baja 20cm\n",
      "\n",
      "dia 2: el caracol ah subido 40 cm\n",
      "esa noche, el caracol baja 20cm\n",
      "\n",
      "dia 3: el caracol ah subido 50 cm\n",
      "esa noche, el caracol baja 20cm\n",
      "\n",
      "dia 4: el caracol ah subido 60 cm\n",
      "esa noche, el caracol baja 20cm\n",
      "\n",
      "dia 5: el caracol ah subido 70 cm\n",
      "esa noche, el caracol baja 20cm\n",
      "\n",
      "dia 6: el caracol ah subido 80 cm\n",
      "esa noche, el caracol baja 20cm\n",
      "\n",
      "dia 7: el caracol ah subido 90 cm\n",
      "esa noche, el caracol baja 20cm\n",
      "\n",
      "dia 8: el caracol ah subido 100 cm\n",
      "esa noche, el caracol baja 20cm\n",
      "\n",
      "dia 9: el caracol ah subido 110 cm\n",
      "esa noche, el caracol baja 20cm\n",
      "\n",
      "dia 10: el caracol ah subido 120 cm\n",
      "esa noche, el caracol baja 20cm\n",
      "\n",
      "dia 11 el caracol ya ah salido\n"
     ]
    }
   ],
   "source": [
    "#ejercicio 1: \"snail and well\"\n",
    "\n",
    "\n",
    "distancia = 0\n",
    "dia = 0\n",
    "\n",
    "while distancia < 125:\n",
    "    dia += 1\n",
    "    distancia += 30    \n",
    "    \n",
    "    if distancia > 125:       \n",
    "        print(\"dia\", dia , \"el caracol ya ah salido\")\n",
    "        \n",
    "    else:\n",
    "        print(\"dia\" , str(dia) + \": el caracol ah subido\" , distancia , \"cm\")\n",
    "        print(\"esa noche, el caracol baja 20cm\")\n",
    "        distancia -= 20\n",
    "        print()"
   ]
  },
  {
   "cell_type": "code",
   "execution_count": null,
   "metadata": {},
   "outputs": [],
   "source": []
  },
  {
   "cell_type": "code",
   "execution_count": null,
   "metadata": {},
   "outputs": [],
   "source": []
  }
 ],
 "metadata": {
  "kernelspec": {
   "display_name": "Python 3",
   "language": "python",
   "name": "python3"
  },
  "language_info": {
   "codemirror_mode": {
    "name": "ipython",
    "version": 3
   },
   "file_extension": ".py",
   "mimetype": "text/x-python",
   "name": "python",
   "nbconvert_exporter": "python",
   "pygments_lexer": "ipython3",
   "version": "3.8.5"
  }
 },
 "nbformat": 4,
 "nbformat_minor": 4
}
